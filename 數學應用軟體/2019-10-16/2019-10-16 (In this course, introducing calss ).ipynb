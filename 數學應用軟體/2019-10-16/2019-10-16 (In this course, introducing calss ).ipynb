{
 "cells": [
  {
   "cell_type": "code",
   "execution_count": 1,
   "metadata": {},
   "outputs": [],
   "source": [
    "%matplotlib inline\n",
    "import numpy as np\n",
    "import matplotlib.pyplot as plt\n",
    "import pandas as pd"
   ]
  },
  {
   "cell_type": "code",
   "execution_count": 2,
   "metadata": {},
   "outputs": [],
   "source": [
    "st=\"拍拍\""
   ]
  },
  {
   "cell_type": "code",
   "execution_count": 3,
   "metadata": {},
   "outputs": [
    {
     "data": {
      "text/plain": [
       "'拍拍'"
      ]
     },
     "execution_count": 3,
     "metadata": {},
     "output_type": "execute_result"
    }
   ],
   "source": [
    "st"
   ]
  },
  {
   "cell_type": "code",
   "execution_count": 4,
   "metadata": {},
   "outputs": [],
   "source": [
    "class Card:#後面可放繼承\n",
    "    suit=3\n",
    "    rank=5"
   ]
  },
  {
   "cell_type": "code",
   "execution_count": 5,
   "metadata": {},
   "outputs": [],
   "source": [
    "card01=Card()"
   ]
  },
  {
   "cell_type": "code",
   "execution_count": 9,
   "metadata": {},
   "outputs": [],
   "source": [
    "card01.rank=10"
   ]
  },
  {
   "cell_type": "code",
   "execution_count": 11,
   "metadata": {},
   "outputs": [
    {
     "data": {
      "text/plain": [
       "10"
      ]
     },
     "execution_count": 11,
     "metadata": {},
     "output_type": "execute_result"
    }
   ],
   "source": [
    "card01.rank"
   ]
  },
  {
   "cell_type": "code",
   "execution_count": 13,
   "metadata": {},
   "outputs": [
    {
     "data": {
      "text/plain": [
       "__main__.Card"
      ]
     },
     "execution_count": 13,
     "metadata": {},
     "output_type": "execute_result"
    }
   ],
   "source": [
    "type(card01)"
   ]
  },
  {
   "cell_type": "markdown",
   "metadata": {},
   "source": [
    "### hopeness\n",
    "   \n",
    "   card01=Card(1,10)\n",
    "   \n",
    "   \n",
    "### special method\n",
    "    __init__\n",
    "    "
   ]
  },
  {
   "cell_type": "code",
   "execution_count": 83,
   "metadata": {},
   "outputs": [],
   "source": [
    "class Card:\n",
    "    def __init__(self,s,r):\n",
    "        self.suit=s\n",
    "        self.rank=r"
   ]
  },
  {
   "cell_type": "code",
   "execution_count": 84,
   "metadata": {},
   "outputs": [],
   "source": [
    "card01=Card(1,10)"
   ]
  },
  {
   "cell_type": "code",
   "execution_count": 85,
   "metadata": {},
   "outputs": [
    {
     "data": {
      "text/plain": [
       "1"
      ]
     },
     "execution_count": 85,
     "metadata": {},
     "output_type": "execute_result"
    }
   ],
   "source": [
    "card01.suit"
   ]
  },
  {
   "cell_type": "code",
   "execution_count": 64,
   "metadata": {},
   "outputs": [],
   "source": [
    "class Card:\n",
    "    SUITS=[\"♠\",\"♥\",\"♣\",\"♦\"]\n",
    "    RANKS=['A', '2', '3', '4', '5', '6', '7', '8', '9', 'J', 'Q', 'K']\n",
    "    \n",
    "    def __init__(self,s,r):\n",
    "        self.suit=s\n",
    "        self.rank=r\n",
    "    def show(self):\n",
    "        thecard=self.SUITS[self.suit]+self.RANKS[self.rank]\n",
    "        print(thecard)"
   ]
  },
  {
   "cell_type": "code",
   "execution_count": 23,
   "metadata": {},
   "outputs": [
    {
     "data": {
      "text/plain": [
       "['A', '2', '3', '4', '5', '6', '7', '8', '9', 'J', 'Q', 'K']"
      ]
     },
     "execution_count": 23,
     "metadata": {},
     "output_type": "execute_result"
    }
   ],
   "source": [
    "list(\"A23456789JQK\")"
   ]
  },
  {
   "cell_type": "code",
   "execution_count": 47,
   "metadata": {},
   "outputs": [
    {
     "name": "stdout",
     "output_type": "stream",
     "text": [
      "♥Q\n"
     ]
    }
   ],
   "source": [
    "card01.show()"
   ]
  },
  {
   "cell_type": "markdown",
   "metadata": {},
   "source": [
    "## Remark : Calss only can remember the data and doesn't remember the funcion"
   ]
  },
  {
   "cell_type": "code",
   "execution_count": 86,
   "metadata": {},
   "outputs": [],
   "source": [
    "##__init__ __repr__\n",
    "class Card:\n",
    "    SUITS=[\"♠\",\"♥\",\"♣\",\"♦\"]\n",
    "    RANKS=['A', '2', '3', '4', '5', '6', '7', '8', '9', 'J', 'Q', 'K']\n",
    "    \n",
    "    def __init__(self,s,r):\n",
    "        self.suit=s\n",
    "        self.rank=r\n",
    "    def __repr__(self):\n",
    "        thecard=self.SUITS[self.suit]+self.RANKS[self.rank]\n",
    "        return thecard"
   ]
  },
  {
   "cell_type": "code",
   "execution_count": 87,
   "metadata": {},
   "outputs": [
    {
     "data": {
      "text/plain": [
       "2"
      ]
     },
     "execution_count": 87,
     "metadata": {},
     "output_type": "execute_result"
    }
   ],
   "source": [
    "card02.suit"
   ]
  },
  {
   "cell_type": "code",
   "execution_count": 88,
   "metadata": {},
   "outputs": [],
   "source": [
    "card02=Card(2,3)"
   ]
  },
  {
   "cell_type": "code",
   "execution_count": 89,
   "metadata": {},
   "outputs": [
    {
     "data": {
      "text/plain": [
       "♣4"
      ]
     },
     "execution_count": 89,
     "metadata": {},
     "output_type": "execute_result"
    }
   ],
   "source": [
    "card02"
   ]
  },
  {
   "cell_type": "code",
   "execution_count": 90,
   "metadata": {},
   "outputs": [
    {
     "name": "stdout",
     "output_type": "stream",
     "text": [
      "♣4\n"
     ]
    }
   ],
   "source": [
    "print(card02)"
   ]
  },
  {
   "cell_type": "code",
   "execution_count": 92,
   "metadata": {},
   "outputs": [
    {
     "data": {
      "text/plain": [
       "<__main__.Card at 0x1dc73d8b148>"
      ]
     },
     "execution_count": 92,
     "metadata": {},
     "output_type": "execute_result"
    }
   ],
   "source": [
    "#card01 is not last class\n",
    "card01"
   ]
  },
  {
   "cell_type": "markdown",
   "metadata": {},
   "source": [
    "# ><"
   ]
  },
  {
   "cell_type": "markdown",
   "metadata": {},
   "source": [
    "##  python 檔案功能"
   ]
  },
  {
   "cell_type": "code",
   "execution_count": 96,
   "metadata": {},
   "outputs": [],
   "source": [
    "mydic={'apple':\"蘋果\",'banana':'香蕉','fuck':\"幹你娘\"}"
   ]
  },
  {
   "cell_type": "code",
   "execution_count": 106,
   "metadata": {},
   "outputs": [
    {
     "data": {
      "text/plain": [
       "dict_keys(['apple', 'banana', 'fuck'])"
      ]
     },
     "execution_count": 106,
     "metadata": {},
     "output_type": "execute_result"
    }
   ],
   "source": [
    "mydic.keys()"
   ]
  },
  {
   "cell_type": "code",
   "execution_count": 109,
   "metadata": {},
   "outputs": [
    {
     "data": {
      "text/plain": [
       "dict_values(['蘋果', '香蕉', '幹你娘'])"
      ]
     },
     "execution_count": 109,
     "metadata": {},
     "output_type": "execute_result"
    }
   ],
   "source": [
    "mydic.values()"
   ]
  },
  {
   "cell_type": "code",
   "execution_count": 132,
   "metadata": {},
   "outputs": [
    {
     "name": "stdout",
     "output_type": "stream",
     "text": [
      "apple,蘋果\n",
      "banana,香蕉\n",
      "fuck,幹你娘\n"
     ]
    }
   ],
   "source": [
    "## for dir keys are index and valuse is range \n",
    "for english in mydic.keys():\n",
    "    print(english+','+mydic[english])"
   ]
  },
  {
   "cell_type": "code",
   "execution_count": 137,
   "metadata": {},
   "outputs": [
    {
     "name": "stdout",
     "output_type": "stream",
     "text": [
      "apple,蘋果\n",
      "banana,香蕉\n",
      "fuck,幹你娘\n"
     ]
    }
   ],
   "source": [
    "## Using a f''\n",
    "for english in mydic.keys():\n",
    "    chi=mydic[english]\n",
    "    print(f'{english},{chi}')\n"
   ]
  },
  {
   "cell_type": "code",
   "execution_count": 139,
   "metadata": {},
   "outputs": [
    {
     "name": "stdout",
     "output_type": "stream",
     "text": [
      "apple,蘋果\n",
      "banana,香蕉\n",
      "fuck,幹你娘\n"
     ]
    }
   ],
   "source": [
    "## Using a join to a lot data\n",
    "for english in mydic.keys():\n",
    "    li=[english,mydic[english]]\n",
    "    print(','.join(li))"
   ]
  },
  {
   "cell_type": "markdown",
   "metadata": {},
   "source": [
    "## 存檔 \n",
    "\n",
    "### 對於存檔或讀檔都必須開啟一個暫時儲存區塊並且這個區塊與我們的檔案做連結，再把檔案寫入暫存區中此時因為連接性檔案也播寫入最終目標，最後再關閉暫存區。\n"
   ]
  },
  {
   "cell_type": "code",
   "execution_count": 147,
   "metadata": {},
   "outputs": [],
   "source": [
    "f=open('mydic.csv','w')"
   ]
  },
  {
   "cell_type": "code",
   "execution_count": 148,
   "metadata": {},
   "outputs": [],
   "source": [
    "for english in mydic.keys():\n",
    "    li=[english,mydic[english]]\n",
    "    print(','.join(li),file=f)"
   ]
  },
  {
   "cell_type": "code",
   "execution_count": 150,
   "metadata": {},
   "outputs": [],
   "source": [
    "f.close()"
   ]
  },
  {
   "cell_type": "code",
   "execution_count": 157,
   "metadata": {},
   "outputs": [
    {
     "name": "stdout",
     "output_type": "stream",
     "text": [
      " 磁碟區 C 中的磁碟沒有標籤。\n",
      " 磁碟區序號:  623C-BA6D\n",
      "\n",
      " C:\\Users\\User\\google\\my_python\\數學應用軟體\\2019-10-16 的目錄\n",
      "\n",
      "2020/04/02  上午 11:26    <DIR>          .\n",
      "2020/04/02  上午 11:26    <DIR>          ..\n",
      "2020/03/31  下午 10:08    <DIR>          .ipynb_checkpoints\n",
      "2020/04/02  上午 11:26            10,098 2019-10-16 (In this course, introducing calss ).ipynb\n",
      "2020/04/02  上午 11:26                38 mydic.csv\n",
      "               2 個檔案          10,136 位元組\n",
      "               3 個目錄  139,147,890,688 位元組可用\n"
     ]
    }
   ],
   "source": [
    "%ls "
   ]
  },
  {
   "cell_type": "code",
   "execution_count": 159,
   "metadata": {},
   "outputs": [
    {
     "name": "stderr",
     "output_type": "stream",
     "text": [
      "UsageError: Line magic function `%cat` not found.\n"
     ]
    }
   ],
   "source": [
    "# linux\n",
    "%cat mydic.csv"
   ]
  },
  {
   "cell_type": "code",
   "execution_count": 161,
   "metadata": {},
   "outputs": [
    {
     "name": "stdout",
     "output_type": "stream",
     "text": [
      "apple,蘋果\n",
      "banana,香蕉\n",
      "fuck,幹你娘\n"
     ]
    }
   ],
   "source": [
    "# windows \n",
    "!type mydic.csv"
   ]
  },
  {
   "cell_type": "code",
   "execution_count": 163,
   "metadata": {},
   "outputs": [],
   "source": [
    "## 讀回我們的檔案"
   ]
  },
  {
   "cell_type": "code",
   "execution_count": 166,
   "metadata": {},
   "outputs": [],
   "source": [
    "## 1\n",
    "f=open('mydic.csv','r')"
   ]
  },
  {
   "cell_type": "code",
   "execution_count": 168,
   "metadata": {},
   "outputs": [],
   "source": [
    "## 2\n",
    "mydata=f.readlines()"
   ]
  },
  {
   "cell_type": "code",
   "execution_count": 173,
   "metadata": {},
   "outputs": [],
   "source": [
    "## 3\n",
    "f.close()"
   ]
  },
  {
   "cell_type": "code",
   "execution_count": 174,
   "metadata": {},
   "outputs": [
    {
     "data": {
      "text/plain": [
       "['apple,蘋果\\n', 'banana,香蕉\\n', 'fuck,幹你娘\\n']"
      ]
     },
     "execution_count": 174,
     "metadata": {},
     "output_type": "execute_result"
    }
   ],
   "source": [
    "## 4\n",
    "mydata"
   ]
  },
  {
   "cell_type": "code",
   "execution_count": 175,
   "metadata": {},
   "outputs": [
    {
     "name": "stdout",
     "output_type": "stream",
     "text": [
      "apple,蘋果\n",
      "\n",
      "banana,香蕉\n",
      "\n",
      "fuck,幹你娘\n",
      "\n"
     ]
    }
   ],
   "source": [
    "for i in mydata:\n",
    "    print(i)"
   ]
  },
  {
   "cell_type": "code",
   "execution_count": 177,
   "metadata": {},
   "outputs": [],
   "source": [
    "line=mydata[1]"
   ]
  },
  {
   "cell_type": "code",
   "execution_count": 185,
   "metadata": {},
   "outputs": [
    {
     "data": {
      "text/plain": [
       "'banana,香蕉'"
      ]
     },
     "execution_count": 185,
     "metadata": {},
     "output_type": "execute_result"
    }
   ],
   "source": [
    "line.rstrip('\\n')"
   ]
  },
  {
   "cell_type": "code",
   "execution_count": 187,
   "metadata": {},
   "outputs": [
    {
     "data": {
      "text/plain": [
       "['banana', '香蕉']"
      ]
     },
     "execution_count": 187,
     "metadata": {},
     "output_type": "execute_result"
    }
   ],
   "source": [
    "line.rstrip('\\n').split(',')"
   ]
  },
  {
   "cell_type": "code",
   "execution_count": 181,
   "metadata": {},
   "outputs": [
    {
     "name": "stdout",
     "output_type": "stream",
     "text": [
      "apple,蘋果\n",
      "banana,香蕉\n",
      "fuck,幹你娘\n"
     ]
    }
   ],
   "source": [
    "for i in mydata:\n",
    "    i=i.rstrip('\\n')\n",
    "    print(i)"
   ]
  },
  {
   "cell_type": "markdown",
   "metadata": {},
   "source": [
    "## ><"
   ]
  },
  {
   "cell_type": "code",
   "execution_count": 210,
   "metadata": {},
   "outputs": [],
   "source": [
    "newdic={}"
   ]
  },
  {
   "cell_type": "code",
   "execution_count": 189,
   "metadata": {},
   "outputs": [],
   "source": [
    "## 1 way\n",
    "for line in mydata:\n",
    "    line=line.rstrip('\\n')\n",
    "    temp=line.split(',')\n",
    "    newdic.update({temp[0]:temp[1]})"
   ]
  },
  {
   "cell_type": "code",
   "execution_count": 209,
   "metadata": {},
   "outputs": [
    {
     "data": {
      "text/plain": [
       "{'apple': '蘋果', 'banana': '香蕉', 'fuck': '幹你娘'}"
      ]
     },
     "execution_count": 209,
     "metadata": {},
     "output_type": "execute_result"
    }
   ],
   "source": [
    "newdic"
   ]
  },
  {
   "cell_type": "code",
   "execution_count": 216,
   "metadata": {},
   "outputs": [],
   "source": [
    "## 2 way\n",
    "for line in mydata:\n",
    "    newline=line.rstrip('\\n')\n",
    "    mylist=newline.split(',')\n",
    "    eng,chi=mylist \n",
    "    newdic[eng]=chi ## diff"
   ]
  },
  {
   "cell_type": "code",
   "execution_count": 218,
   "metadata": {},
   "outputs": [
    {
     "data": {
      "text/plain": [
       "{'apple': '蘋果', 'banana': '香蕉', 'fuck': '幹你娘'}"
      ]
     },
     "execution_count": 218,
     "metadata": {},
     "output_type": "execute_result"
    }
   ],
   "source": [
    "newdic"
   ]
  },
  {
   "cell_type": "markdown",
   "metadata": {},
   "source": [
    "## python pickle存取法"
   ]
  },
  {
   "cell_type": "code",
   "execution_count": 220,
   "metadata": {},
   "outputs": [
    {
     "data": {
      "text/plain": [
       "{'apple': '蘋果', 'banana': '香蕉', 'fuck': '幹你娘'}"
      ]
     },
     "execution_count": 220,
     "metadata": {},
     "output_type": "execute_result"
    }
   ],
   "source": [
    "mydic"
   ]
  },
  {
   "cell_type": "code",
   "execution_count": 222,
   "metadata": {},
   "outputs": [],
   "source": [
    "import pickle"
   ]
  },
  {
   "cell_type": "code",
   "execution_count": 223,
   "metadata": {},
   "outputs": [],
   "source": [
    "f=open(\"mydictionary.pickle\",'wb') ## wb is binary"
   ]
  },
  {
   "cell_type": "code",
   "execution_count": 225,
   "metadata": {},
   "outputs": [],
   "source": [
    "pickle.dump(mydic,f)"
   ]
  },
  {
   "cell_type": "code",
   "execution_count": 227,
   "metadata": {},
   "outputs": [],
   "source": [
    "f.close()"
   ]
  },
  {
   "cell_type": "code",
   "execution_count": 229,
   "metadata": {},
   "outputs": [
    {
     "name": "stdout",
     "output_type": "stream",
     "text": [
      " 磁碟區 C 中的磁碟沒有標籤。\n",
      " 磁碟區序號:  623C-BA6D\n",
      "\n",
      " C:\\Users\\User\\google\\my_python\\數學應用軟體\\2019-10-16 的目錄\n",
      "\n",
      "2020/04/02  下午 04:21    <DIR>          .\n",
      "2020/04/02  下午 04:21    <DIR>          ..\n",
      "2020/03/31  下午 10:08    <DIR>          .ipynb_checkpoints\n",
      "2020/04/02  下午 04:20            16,376 2019-10-16 (In this course, introducing calss ).ipynb\n",
      "2020/04/02  上午 11:26                38 mydic.csv\n",
      "2020/04/02  下午 04:21               172 mydictionary.pickle\n",
      "2020/04/02  下午 12:30                35 test_newline.csv\n",
      "               4 個檔案          16,621 位元組\n",
      "               3 個目錄  139,123,646,464 位元組可用\n"
     ]
    }
   ],
   "source": [
    "%ls"
   ]
  },
  {
   "cell_type": "code",
   "execution_count": 231,
   "metadata": {},
   "outputs": [],
   "source": [
    "## load\n",
    "f=open('mydictionary.pickle','rb')"
   ]
  },
  {
   "cell_type": "code",
   "execution_count": 233,
   "metadata": {},
   "outputs": [],
   "source": [
    "appl=pickle.load(f)"
   ]
  },
  {
   "cell_type": "code",
   "execution_count": 235,
   "metadata": {},
   "outputs": [],
   "source": [
    "f.close()"
   ]
  },
  {
   "cell_type": "code",
   "execution_count": 237,
   "metadata": {},
   "outputs": [
    {
     "data": {
      "text/plain": [
       "{'apple': '蘋果', 'banana': '香蕉', 'fuck': '幹你娘'}"
      ]
     },
     "execution_count": 237,
     "metadata": {},
     "output_type": "execute_result"
    }
   ],
   "source": [
    "appl "
   ]
  },
  {
   "cell_type": "code",
   "execution_count": null,
   "metadata": {},
   "outputs": [],
   "source": []
  },
  {
   "cell_type": "markdown",
   "metadata": {},
   "source": [
    "## test"
   ]
  },
  {
   "cell_type": "code",
   "execution_count": 204,
   "metadata": {},
   "outputs": [],
   "source": [
    "# I create a csv to test whether it is a row with dot divided\n",
    "f1=open('test_newline.csv','w')"
   ]
  },
  {
   "cell_type": "code",
   "execution_count": 205,
   "metadata": {},
   "outputs": [],
   "source": [
    "for i in newdic:\n",
    "    print(f'{i},{newdic[i]}',end=',',file=f1)"
   ]
  },
  {
   "cell_type": "code",
   "execution_count": 208,
   "metadata": {},
   "outputs": [],
   "source": [
    "f1.close()"
   ]
  },
  {
   "cell_type": "markdown",
   "metadata": {},
   "source": [
    "## end"
   ]
  },
  {
   "cell_type": "markdown",
   "metadata": {},
   "source": [
    "# 隨意弄檔案\n",
    "## %%"
   ]
  },
  {
   "cell_type": "code",
   "execution_count": 486,
   "metadata": {},
   "outputs": [
    {
     "name": "stdout",
     "output_type": "stream",
     "text": [
      "Overwriting test.txt\n"
     ]
    }
   ],
   "source": [
    "\n",
    "%%writefile \"test.txt\"\n",
    "天空 文卿   風雲變色  \n",
    "力念    清輕忽  \n",
    "狗 \n",
    "今天新 衣服 分十\n",
    "我愛你喔  不客氣"
   ]
  },
  {
   "cell_type": "code",
   "execution_count": 392,
   "metadata": {},
   "outputs": [
    {
     "name": "stdout",
     "output_type": "stream",
     "text": [
      " 磁碟區 C 中的磁碟沒有標籤。\n",
      " 磁碟區序號:  623C-BA6D\n",
      "\n",
      " C:\\Users\\User\\google\\my_python\\數學應用軟體\\2019-10-16 的目錄\n",
      "\n",
      "2020/04/02  下午 05:52    <DIR>          .\n",
      "2020/04/02  下午 05:52    <DIR>          ..\n",
      "2020/03/31  下午 10:08    <DIR>          .ipynb_checkpoints\n",
      "2020/04/02  下午 05:52            24,527 2019-10-16 (In this course, introducing calss ).ipynb\n",
      "2020/04/02  上午 11:26                38 mydic.csv\n",
      "2020/04/02  下午 04:21               172 mydictionary.pickle\n",
      "2020/04/02  下午 05:53                56 test.txt\n",
      "2020/04/02  下午 12:30                35 test_newline.csv\n",
      "               5 個檔案          24,828 位元組\n",
      "               3 個目錄  139,164,950,528 位元組可用\n"
     ]
    }
   ],
   "source": [
    "%ls"
   ]
  },
  {
   "cell_type": "code",
   "execution_count": 487,
   "metadata": {},
   "outputs": [
    {
     "name": "stdout",
     "output_type": "stream",
     "text": [
      "天空 文卿   風雲變色  \n",
      "力念    清輕忽  \n",
      "狗 \n",
      "今天新 衣服 分十\n",
      "我愛你喔  不客氣\n"
     ]
    }
   ],
   "source": [
    "!type test.txt"
   ]
  },
  {
   "cell_type": "code",
   "execution_count": 488,
   "metadata": {},
   "outputs": [],
   "source": [
    "f=open('test.txt','r')"
   ]
  },
  {
   "cell_type": "code",
   "execution_count": 489,
   "metadata": {},
   "outputs": [],
   "source": [
    "spam=f.readlines()"
   ]
  },
  {
   "cell_type": "code",
   "execution_count": 490,
   "metadata": {},
   "outputs": [],
   "source": [
    "f.close()"
   ]
  },
  {
   "cell_type": "code",
   "execution_count": 491,
   "metadata": {},
   "outputs": [
    {
     "name": "stdout",
     "output_type": "stream",
     "text": [
      "天空 文卿   風雲變色  \n",
      "力念    清輕忽  \n",
      "狗 \n",
      "今天新 衣服 分十\n",
      "我愛你喔  不客氣\n"
     ]
    }
   ],
   "source": [
    "for i in spam:\n",
    "    i=i.rstrip('\\n')\n",
    "    print(i)"
   ]
  },
  {
   "cell_type": "code",
   "execution_count": 497,
   "metadata": {},
   "outputs": [
    {
     "data": {
      "text/plain": [
       "['天空', '文卿', '風雲變色', '力念', '清輕忽', '狗', '今天新', '衣服', '分十', '我愛你喔', '不客氣']"
      ]
     },
     "execution_count": 497,
     "metadata": {},
     "output_type": "execute_result"
    }
   ],
   "source": [
    "li"
   ]
  },
  {
   "cell_type": "code",
   "execution_count": 525,
   "metadata": {},
   "outputs": [],
   "source": [
    "line=spam[1]"
   ]
  },
  {
   "cell_type": "code",
   "execution_count": 526,
   "metadata": {},
   "outputs": [],
   "source": [
    "line=line.rstrip('\\n')"
   ]
  },
  {
   "cell_type": "code",
   "execution_count": 527,
   "metadata": {},
   "outputs": [],
   "source": [
    "line=line.split(' ')"
   ]
  },
  {
   "cell_type": "code",
   "execution_count": 529,
   "metadata": {},
   "outputs": [
    {
     "data": {
      "text/plain": [
       "['力念', '', '', '', '清輕忽', '', '']"
      ]
     },
     "execution_count": 529,
     "metadata": {},
     "output_type": "execute_result"
    }
   ],
   "source": [
    "line"
   ]
  },
  {
   "cell_type": "code",
   "execution_count": 550,
   "metadata": {},
   "outputs": [],
   "source": [
    "## this is the concept of filter (How to determining the element can put in \n",
    "## new list\n",
    "A=[w!='' for w in line ]\n"
   ]
  },
  {
   "cell_type": "code",
   "execution_count": 551,
   "metadata": {},
   "outputs": [
    {
     "data": {
      "text/plain": [
       "[True, False, False, False, True, False, False]"
      ]
     },
     "execution_count": 551,
     "metadata": {},
     "output_type": "execute_result"
    }
   ],
   "source": [
    "A"
   ]
  },
  {
   "cell_type": "code",
   "execution_count": 554,
   "metadata": {},
   "outputs": [],
   "source": [
    "l1=list()\n",
    "for i,e in enumerate(A):\n",
    "    if e!=False:\n",
    "        l1.append(line[i])"
   ]
  },
  {
   "cell_type": "code",
   "execution_count": 555,
   "metadata": {},
   "outputs": [
    {
     "data": {
      "text/plain": [
       "['力念', '清輕忽']"
      ]
     },
     "execution_count": 555,
     "metadata": {},
     "output_type": "execute_result"
    }
   ],
   "source": [
    "l1"
   ]
  },
  {
   "cell_type": "code",
   "execution_count": null,
   "metadata": {},
   "outputs": [],
   "source": [
    "####<>>>>>>>>>>>>>>>>>>>>>>>>>>>>>>>>>>>>>>>>>>>>>>>>>>>"
   ]
  },
  {
   "cell_type": "code",
   "execution_count": 502,
   "metadata": {},
   "outputs": [
    {
     "data": {
      "text/plain": [
       "['力念', '清輕忽']"
      ]
     },
     "execution_count": 502,
     "metadata": {},
     "output_type": "execute_result"
    }
   ],
   "source": [
    "## filter fun is using your function which return true or false do in list \n",
    "list(filter(lambda w:(w!=''),line))"
   ]
  },
  {
   "cell_type": "code",
   "execution_count": 504,
   "metadata": {},
   "outputs": [
    {
     "data": {
      "text/plain": [
       "['力念', '', '', '', '清輕忽', '', '']"
      ]
     },
     "execution_count": 504,
     "metadata": {},
     "output_type": "execute_result"
    }
   ],
   "source": [
    "line"
   ]
  },
  {
   "cell_type": "code",
   "execution_count": 570,
   "metadata": {},
   "outputs": [
    {
     "name": "stdout",
     "output_type": "stream",
     "text": [
      "['天', '空', ' ', '文', '卿', ' ', ' ', ' ', '風', '雲', '變', '色', ' ', ' ']\n",
      "['力', '念', ' ', ' ', ' ', ' ', '清', '輕', '忽', ' ', ' ']\n",
      "['狗', ' ']\n",
      "['今', '天', '新', ' ', '衣', '服', ' ', '分', '十']\n",
      "['我', '愛', '你', '喔', ' ', ' ', '不', '客', '氣']\n"
     ]
    }
   ],
   "source": [
    "# First way is like C method\n",
    "li=list()\n",
    "for i in spam:\n",
    "    i=i.rstrip('\\n')\n",
    "    newline=list(i)\n",
    "    \n",
    "    print(newline)\n",
    "    su=''\n",
    "    for j in newline:\n",
    "        if(j!=' '):\n",
    "            su=su+j\n",
    "        elif su!='':\n",
    "            li.append(su)\n",
    "            su=''\n",
    "        # else is when you meet ' ' and su=''\n",
    "        else:\n",
    "            ;\n",
    "    if(su!=''):\n",
    "        li.append(su)\n",
    "    "
   ]
  },
  {
   "cell_type": "code",
   "execution_count": 571,
   "metadata": {},
   "outputs": [
    {
     "data": {
      "text/plain": [
       "['天空', '文卿', '風雲變色', '力念', '清輕忽', '狗', '今天新', '衣服', '分十', '我愛你喔', '不客氣']"
      ]
     },
     "execution_count": 571,
     "metadata": {},
     "output_type": "execute_result"
    }
   ],
   "source": [
    "l1"
   ]
  },
  {
   "cell_type": "code",
   "execution_count": 522,
   "metadata": {},
   "outputs": [],
   "source": [
    "## second way\n",
    "l1=list()\n",
    "for line in spam:\n",
    "    line=line.rstrip('\\n')\n",
    "    newline=line.split(' ')\n",
    "    #print(newline)\n",
    "    l1=l1+list(filter(lambda w:w!='',newline))"
   ]
  },
  {
   "cell_type": "code",
   "execution_count": 542,
   "metadata": {},
   "outputs": [
    {
     "data": {
      "text/plain": [
       "['天空', '文卿', '風雲變色', '力念', '清輕忽', '狗', '今天新', '衣服', '分十', '我愛你喔', '不客氣']"
      ]
     },
     "execution_count": 542,
     "metadata": {},
     "output_type": "execute_result"
    }
   ],
   "source": [
    "l1"
   ]
  },
  {
   "cell_type": "code",
   "execution_count": 558,
   "metadata": {},
   "outputs": [],
   "source": [
    "## third way is the original method for filter\n",
    "l1=list()\n",
    "for line in spam:\n",
    "    line=line.rstrip('\\n')\n",
    "    newline=line.split(' ')\n",
    "    A=[w!='' for w in newline]\n",
    "    for i,e in enumerate(A):\n",
    "        if e!=False:\n",
    "            l1.append(newline[i])\n",
    "    \n",
    "                "
   ]
  },
  {
   "cell_type": "code",
   "execution_count": 560,
   "metadata": {},
   "outputs": [
    {
     "data": {
      "text/plain": [
       "['天空', '文卿', '風雲變色', '力念', '清輕忽', '狗', '今天新', '衣服', '分十', '我愛你喔', '不客氣']"
      ]
     },
     "execution_count": 560,
     "metadata": {},
     "output_type": "execute_result"
    }
   ],
   "source": [
    "l1"
   ]
  },
  {
   "cell_type": "code",
   "execution_count": 566,
   "metadata": {},
   "outputs": [],
   "source": [
    "## forth method\n",
    "l1=list()\n",
    "for line in spam:\n",
    "    line=line.rstrip('\\n')\n",
    "    newline=line.split()\n",
    "    l1=l1+newline\n",
    "    \n",
    "    "
   ]
  },
  {
   "cell_type": "code",
   "execution_count": 567,
   "metadata": {},
   "outputs": [
    {
     "data": {
      "text/plain": [
       "['天空', '文卿', '風雲變色', '力念', '清輕忽', '狗', '今天新', '衣服', '分十', '我愛你喔', '不客氣']"
      ]
     },
     "execution_count": 567,
     "metadata": {},
     "output_type": "execute_result"
    }
   ],
   "source": [
    "l1"
   ]
  }
 ],
 "metadata": {
  "kernelspec": {
   "display_name": "Python 3",
   "language": "python",
   "name": "python3"
  },
  "language_info": {
   "codemirror_mode": {
    "name": "ipython",
    "version": 3
   },
   "file_extension": ".py",
   "mimetype": "text/x-python",
   "name": "python",
   "nbconvert_exporter": "python",
   "pygments_lexer": "ipython3",
   "version": "3.7.4"
  }
 },
 "nbformat": 4,
 "nbformat_minor": 4
}
